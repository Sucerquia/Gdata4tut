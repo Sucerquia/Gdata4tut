{
 "cells": [
  {
   "cell_type": "markdown",
   "id": "2f861a62",
   "metadata": {},
   "source": [
    "# SITH Analysis Tutorial"
   ]
  },
  {
   "cell_type": "markdown",
   "id": "0df050c8",
   "metadata": {},
   "source": [
    "In this tutorial, you will learn how to analyse the outcome of your stretching simulations with sith. You will obtain the distribution of energies in a Glycine aminoacid with NME and ACE capping groups pulled by the extremes. This assumes that you have a directory with `fchk` files in sith format with the QM information. If you don't have it yet, download it from `https://github.com/Sucerquia/Gdata4tut`_ or check the :ref:`tutorial-stretching`."
   ]
  },
  {
   "cell_type": "code",
   "execution_count": 2,
   "id": "545304e0",
   "metadata": {},
   "outputs": [
    {
     "name": "stdout",
     "output_type": "stream",
     "text": [
      "/home/mbm/Gdata4tut\r\n"
     ]
    }
   ],
   "source": [
    "!pwd"
   ]
  },
  {
   "cell_type": "code",
   "execution_count": 1,
   "id": "9308cf6c",
   "metadata": {},
   "outputs": [
    {
     "ename": "AssertionError",
     "evalue": "unexpected number of DOFs while trying to extract DOFs values",
     "output_type": "error",
     "traceback": [
      "\u001b[0;31m---------------------------------------------------------------------------\u001b[0m",
      "\u001b[0;31mAssertionError\u001b[0m                            Traceback (most recent call last)",
      "Cell \u001b[0;32mIn[1], line 4\u001b[0m\n\u001b[1;32m      1\u001b[0m \u001b[38;5;28;01mfrom\u001b[39;00m \u001b[38;5;21;01msith\u001b[39;00m\u001b[38;5;21;01m.\u001b[39;00m\u001b[38;5;21;01mSITH\u001b[39;00m \u001b[38;5;28;01mimport\u001b[39;00m SITH\n\u001b[0;32m----> 4\u001b[0m sith \u001b[38;5;241m=\u001b[39m \u001b[43mSITH\u001b[49m\u001b[43m(\u001b[49m\u001b[38;5;124;43m'\u001b[39;49m\u001b[38;5;124;43m./data/forces\u001b[39;49m\u001b[38;5;124;43m'\u001b[39;49m\u001b[43m)\u001b[49m\n\u001b[1;32m      5\u001b[0m \u001b[38;5;66;03m# The next line could also be jedi_analysis if your fchk files contain the hessian matrix\u001b[39;00m\n\u001b[1;32m      6\u001b[0m \u001b[38;5;66;03m# of the optimized configuration.\u001b[39;00m\n\u001b[1;32m      7\u001b[0m sith\u001b[38;5;241m.\u001b[39msith_analysis()\n",
      "File \u001b[0;32m~/sw/sith/src/sith/SITH.py:77\u001b[0m, in \u001b[0;36mSITH.__init__\u001b[0;34m(self, inputfiles, reader, reference, **kwargs)\u001b[0m\n\u001b[1;32m     75\u001b[0m \u001b[38;5;28mself\u001b[39m\u001b[38;5;241m.\u001b[39mremoved_dofs \u001b[38;5;241m=\u001b[39m {}\n\u001b[1;32m     76\u001b[0m \u001b[38;5;28mself\u001b[39m\u001b[38;5;241m.\u001b[39mreference \u001b[38;5;241m=\u001b[39m reference\n\u001b[0;32m---> 77\u001b[0m reader \u001b[38;5;241m=\u001b[39m \u001b[38;5;28;43mself\u001b[39;49m\u001b[38;5;241;43m.\u001b[39;49m\u001b[43m_get_reader\u001b[49m\u001b[43m(\u001b[49m\u001b[43mreader\u001b[49m\u001b[43m)\u001b[49m\u001b[43m(\u001b[49m\u001b[43minputfiles\u001b[49m\u001b[43m,\u001b[49m\u001b[43m \u001b[49m\u001b[38;5;241;43m*\u001b[39;49m\u001b[38;5;241;43m*\u001b[39;49m\u001b[43mkwargs\u001b[49m\u001b[43m)\u001b[49m\n\u001b[1;32m     78\u001b[0m \u001b[38;5;28mself\u001b[39m\u001b[38;5;241m.\u001b[39mstructures \u001b[38;5;241m=\u001b[39m reader\u001b[38;5;241m.\u001b[39mstructures\n\u001b[1;32m     80\u001b[0m \u001b[38;5;66;03m# check compatibility between strucures\u001b[39;00m\n",
      "File \u001b[0;32m~/sw/sith/src/sith/readers/g09_reader.py:403\u001b[0m, in \u001b[0;36mG09Reader.__init__\u001b[0;34m(self, inputfiles)\u001b[0m\n\u001b[1;32m    401\u001b[0m \u001b[38;5;28mself\u001b[39m\u001b[38;5;241m.\u001b[39mstructures \u001b[38;5;241m=\u001b[39m \u001b[38;5;28mlist\u001b[39m()\n\u001b[1;32m    402\u001b[0m \u001b[38;5;28;01mfor\u001b[39;00m fil \u001b[38;5;129;01min\u001b[39;00m \u001b[38;5;28mself\u001b[39m\u001b[38;5;241m.\u001b[39minputfiles:\n\u001b[0;32m--> 403\u001b[0m     read_file \u001b[38;5;241m=\u001b[39m \u001b[43mFileReader\u001b[49m\u001b[43m(\u001b[49m\u001b[43mfil\u001b[49m\u001b[43m)\u001b[49m\n\u001b[1;32m    404\u001b[0m     \u001b[38;5;28mself\u001b[39m\u001b[38;5;241m.\u001b[39mstructures\u001b[38;5;241m.\u001b[39mappend(read_file\u001b[38;5;241m.\u001b[39mgeometry)\n",
      "File \u001b[0;32m~/sw/sith/src/sith/readers/g09_reader.py:70\u001b[0m, in \u001b[0;36mFileReader.__init__\u001b[0;34m(self, path, extract_data)\u001b[0m\n\u001b[1;32m     67\u001b[0m \u001b[38;5;66;03m# False mainly for debug and tests\u001b[39;00m\n\u001b[1;32m     68\u001b[0m \u001b[38;5;28;01mif\u001b[39;00m extract_data:\n\u001b[1;32m     69\u001b[0m     \u001b[38;5;66;03m# Add info to geometry object\u001b[39;00m\n\u001b[0;32m---> 70\u001b[0m     \u001b[38;5;28;43mself\u001b[39;49m\u001b[38;5;241;43m.\u001b[39;49m\u001b[43m_extract\u001b[49m\u001b[43m(\u001b[49m\u001b[43m)\u001b[49m\n",
      "File \u001b[0;32m~/sw/sith/src/sith/readers/g09_reader.py:107\u001b[0m, in \u001b[0;36mFileReader._extract\u001b[0;34m(self)\u001b[0m\n\u001b[1;32m    105\u001b[0m \u001b[38;5;28;01mfor\u001b[39;00m block \u001b[38;5;129;01min\u001b[39;00m \u001b[38;5;28mself\u001b[39m\u001b[38;5;241m.\u001b[39mblock_readers\u001b[38;5;241m.\u001b[39mkeys():\n\u001b[1;32m    106\u001b[0m     \u001b[38;5;28;01mif\u001b[39;00m block \u001b[38;5;129;01min\u001b[39;00m \u001b[38;5;28mself\u001b[39m\u001b[38;5;241m.\u001b[39m__lines[i]:\n\u001b[0;32m--> 107\u001b[0m         i, _ \u001b[38;5;241m=\u001b[39m \u001b[38;5;28;43mself\u001b[39;49m\u001b[38;5;241;43m.\u001b[39;49m\u001b[43mblock_readers\u001b[49m\u001b[43m[\u001b[49m\u001b[43mblock\u001b[49m\u001b[43m]\u001b[49m\u001b[43m(\u001b[49m\u001b[43mi\u001b[49m\u001b[43m)\u001b[49m\n\u001b[1;32m    108\u001b[0m         \u001b[38;5;28;01mdel\u001b[39;00m \u001b[38;5;28mself\u001b[39m\u001b[38;5;241m.\u001b[39mblock_readers[block]\n\u001b[1;32m    109\u001b[0m         \u001b[38;5;28;01mbreak\u001b[39;00m\n",
      "File \u001b[0;32m~/sw/sith/src/sith/readers/g09_reader.py:358\u001b[0m, in \u001b[0;36mFileReader._iforces_reader\u001b[0;34m(self, ith_line)\u001b[0m\n\u001b[1;32m    344\u001b[0m \u001b[38;5;250m\u001b[39m\u001b[38;5;124;03m\"\"\"\u001b[39;00m\n\u001b[1;32m    345\u001b[0m \u001b[38;5;124;03mRead internal forces.\u001b[39;00m\n\u001b[1;32m    346\u001b[0m \n\u001b[0;32m   (...)\u001b[0m\n\u001b[1;32m    355\u001b[0m \u001b[38;5;124;03mgeneralized forces in DOFs with shape (#DOFs)\u001b[39;00m\n\u001b[1;32m    356\u001b[0m \u001b[38;5;124;03m\"\"\"\u001b[39;00m\n\u001b[1;32m    357\u001b[0m forces, ith_line \u001b[38;5;241m=\u001b[39m \u001b[38;5;28mself\u001b[39m\u001b[38;5;241m.\u001b[39m_fill_array(ith_line, dtype\u001b[38;5;241m=\u001b[39m\u001b[38;5;28mfloat\u001b[39m)\n\u001b[0;32m--> 358\u001b[0m \u001b[38;5;28;01massert\u001b[39;00m \u001b[38;5;28mlen\u001b[39m(forces) \u001b[38;5;241m==\u001b[39m \u001b[38;5;28mself\u001b[39m\u001b[38;5;241m.\u001b[39mdims[\u001b[38;5;241m0\u001b[39m], \u001b[38;5;124m\"\u001b[39m\u001b[38;5;124munexpected number of DOFs \u001b[39m\u001b[38;5;124m\"\u001b[39m \u001b[38;5;241m+\u001b[39m\\\n\u001b[1;32m    359\u001b[0m     \u001b[38;5;124m\"\u001b[39m\u001b[38;5;124mwhile trying to extract DOFs values\u001b[39m\u001b[38;5;124m\"\u001b[39m\n\u001b[1;32m    360\u001b[0m \u001b[38;5;28mself\u001b[39m\u001b[38;5;241m.\u001b[39mgeometry\u001b[38;5;241m.\u001b[39minternal_forces \u001b[38;5;241m=\u001b[39m forces\n\u001b[1;32m    361\u001b[0m \u001b[38;5;28mself\u001b[39m\u001b[38;5;241m.\u001b[39mgeometry\u001b[38;5;241m.\u001b[39minternal_forces[:\u001b[38;5;28mself\u001b[39m\u001b[38;5;241m.\u001b[39mdims[\u001b[38;5;241m1\u001b[39m]] \u001b[38;5;241m/\u001b[39m\u001b[38;5;241m=\u001b[39m Bohr\n",
      "\u001b[0;31mAssertionError\u001b[0m: unexpected number of DOFs while trying to extract DOFs values"
     ]
    }
   ],
   "source": [
    "from sith.SITH import SITH\n",
    "\n",
    "\n",
    "sith = SITH('./data/forces')\n",
    "# The next line could also be jedi_analysis if your fchk files contain the hessian matrix\n",
    "# of the optimized configuration.\n",
    "sith.sith_analysis(); "
   ]
  },
  {
   "cell_type": "markdown",
   "id": "b223ec43",
   "metadata": {},
   "source": [
    "# Visualize the Stretching of your Molecule"
   ]
  },
  {
   "cell_type": "markdown",
   "id": "bb082a37",
   "metadata": {},
   "source": [
    ".. note::\n",
    "  \n",
    "  `sith` has a visualization tool implemented, but it only works in jupyter-lab notebooks so far and it requieres   that\n",
    "  you first install `VPython <https://vpython.org/>`_ and `VMol <https://github.com/Sucerquia/vmol>`_.\n",
    "  You can skip this part of the tutorial. As an easy alternative to observe the stretching, you can use, for example,\n",
    "  :code:`vmd *.xyz`."
   ]
  },
  {
   "cell_type": "markdown",
   "id": "efa67d35",
   "metadata": {},
   "source": [
    "First check the trajectory collected by :class:`sith.SITH.SITH`. It comes from the fchk files you have in your directory ordered alphabetically. In case of a disordered trajectory, rename the files in increasing order."
   ]
  },
  {
   "cell_type": "code",
   "execution_count": null,
   "id": "fe3ff5c8",
   "metadata": {},
   "outputs": [],
   "source": [
    "from sith.visualize.vmol import EnergiesVMol as Evmol\n",
    "\n",
    "\n",
    "i = 0\n",
    "v = Evmol(sith, absolute=True, deci=3,\n",
    "          alignment=[1, 16, 13], height=300, default_bonds=True)\n",
    "v.scene.camera.pos = v._asvector([0, 0, 1.73])\n",
    "v.scene.range = 2.95\n",
    "v.update_stretching(i)\n",
    "v.vp.label(text=str(i), pos=v._asvector([4.45, 2, 0]), height=20)\n",
    "# v.download_image(f'stretching{i}') # this is to create the gif of the tutorial"
   ]
  },
  {
   "cell_type": "markdown",
   "id": "859e9854",
   "metadata": {},
   "source": [
    "Notice that the dihedral angles of the hydrogens in the NME capping group change drastically from the stretching **1** to the stretching **2**, but we don't expect any distribution of energy in the degrees of freedom of the hydrogen anyway because they are too light and not in the connecting bonds (only side-chains). So, for the sake of the analysis and to avoid numerical erros because of the large changes in the degrees of freedom of the hydrogens, we can simply take them out of the anlysis."
   ]
  },
  {
   "cell_type": "code",
   "execution_count": null,
   "id": "2625bce3",
   "metadata": {},
   "outputs": [],
   "source": [
    "sith = SITH('./data/forces')\n",
    "sith.killer(killElements='H')\n",
    "sith.sith_analysis();"
   ]
  },
  {
   "cell_type": "markdown",
   "id": "d7ddd987",
   "metadata": {},
   "source": [
    "You can then visualize the evolution of the distribution of energies in the interatomic distances according to sith analysis (same as shown before, but without the hydrogen bonds)."
   ]
  },
  {
   "cell_type": "code",
   "execution_count": null,
   "id": "01a8ca43",
   "metadata": {},
   "outputs": [],
   "source": [
    "# The next two lines define the colormap used in this tutorial, you can use any of your preference instead,\n",
    "# for example, matplotlib.colormaps['Blues']\n",
    "import cmocean as cmo\n",
    "\n",
    "cmap = cmo.cm.algae \n",
    "\n",
    "v = Evmol(sith, dofs=['bonds'], cmap=cmap, absolute=True, deci=4, portion=70,\n",
    "          alignment=[1, 16, 13], labelsize=5)\n",
    "v.vp.label(text=str(8), pos=v._asvector([4.45, 2, 0]), height=20)\n",
    "v.update_stretching(8)\n",
    "v.add_image_to_canvas(v.fig);\n",
    "# v.download_image('energy_in_bonds') # this is for the image of the tutorial\n",
    "# v.fig.savefig('cbar_bonds.png', dpi=300) # this is for the image of the tutorial"
   ]
  },
  {
   "cell_type": "markdown",
   "id": "86b94283",
   "metadata": {},
   "source": [
    "In this image, it is clear that the energy of the bonds are mostly stored in the C$\\alpha$-C bond of the ACE capping group, followed by the C-N bond of the NME capping group.\n",
    "\n",
    "In the same way, you could plot the distribution of energies only in the angles or in the dihedrals. Or you could even include a comparison considering angles and bonds. "
   ]
  },
  {
   "cell_type": "code",
   "execution_count": null,
   "id": "02b0c23d",
   "metadata": {},
   "outputs": [],
   "source": [
    "v = Evmol(sith, dofs=['all'], cmap=cmap, absolute=True, deci=4, \n",
    "          alignment=[1, 16, 13], labelsize=5, default_bonds=True)\n",
    "v.update_stretching(8)\n",
    "v.vp.label(text=str(8), pos=v._asvector([4.45, 2, 0]), height=20)\n",
    "v.add_image_to_canvas(v.fig);\n",
    "#v.download_image('energy_in_bonds_angles') # this is for the image of the tutorial\n",
    "#v.fig.savefig('cbar_bonds_angles.png', dpi=300) # this is for the image of the tutorial"
   ]
  },
  {
   "cell_type": "markdown",
   "id": "47f8f3a1",
   "metadata": {},
   "source": [
    "Now, we can immediately observe that the energy is mostly stored in the bonds, even when the energy loaded in some of the angles is higher that then energy of some bonds."
   ]
  },
  {
   "cell_type": "markdown",
   "id": "88dc61dd",
   "metadata": {},
   "source": [
    ".. note::\n",
    "\n",
    "  The visualization of dihedrals might fail because of an internal error of vpython. "
   ]
  },
  {
   "cell_type": "markdown",
   "id": "22c9da6b",
   "metadata": {},
   "source": [
    "# Get to Know SITH Attributes"
   ]
  },
  {
   "cell_type": "markdown",
   "id": "42ab82d7",
   "metadata": {},
   "source": [
    "With the next lines of python commands, you could see the values stored in the sith object. The name of the most important values are self explanatory (just remember that dofs stands for Degrees of Freedom). For further explanation of those values, check :class:`sith.SITH.SITH`. For more clarity, here we discuss shortly how they help analyzing the distribution of energies."
   ]
  },
  {
   "cell_type": "code",
   "execution_count": null,
   "id": "f0c86785",
   "metadata": {},
   "outputs": [],
   "source": [
    "import inspect\n",
    "\n",
    "[print(name) for name, value in inspect.getmembers(sith)\n",
    " if not callable(value) and not name.startswith(\"__\")];"
   ]
  },
  {
   "cell_type": "markdown",
   "id": "d7c8f9b6",
   "metadata": {},
   "source": [
    "In sith, all the quantities that depends on the stretching and the degree of freedoms are numpy arrays where axis 0  and 1 run over the stretching state and the degrees of freedom, respectively. The stretching state is in increasing order and  the order index of the degrees of freedom is defined in :attr:`sith.SITH.SITH.dim_indices`. Note as well that :attr:`sith.SITH.SIH.dims` has 4 components that correspond to the total number of Degrees of Freedom, the number of distances, the number of angles and the number of dihedrals, in that order."
   ]
  },
  {
   "cell_type": "markdown",
   "id": "d6219634",
   "metadata": {},
   "source": [
    "# SITH analysis"
   ]
  },
  {
   "cell_type": "markdown",
   "id": "fd6498fd",
   "metadata": {},
   "source": [
    ".. note::\n",
    "    In the this section we plot some of the quantities important in sith and comment a bit on it. We are using `PlottingTool <https://github.com/Sucerquia/PlotterTool/tree/master>`_ and matplotlib, but feel free to use your desired plotting tool. The important lines are highlighted, the rest is just visualization preferences."
   ]
  },
  {
   "cell_type": "markdown",
   "id": "e06a4e2e",
   "metadata": {},
   "source": [
    "## Internal Forces"
   ]
  },
  {
   "cell_type": "markdown",
   "id": "4c377ce9",
   "metadata": {},
   "source": [
    "In the next the python script, we plot the forces in the different degrees of freedom (distances, angles and dihedrals). The important attribute here is :attr:`sith.SITH.SITH.all_forces`. Note that we plot all the forces in all the stretching states (':' as the selection of the first component of all_forces -axis 0-), and we select the distances first, then the angles, and finally, the dihedrals. Each plotted curve\n",
    "correspond to the force at the stretching states in a given degree of freedom label by the index of the DOF."
   ]
  },
  {
   "cell_type": "code",
   "execution_count": null,
   "id": "3f979607-c69e-464c-a869-0f39a639059f",
   "metadata": {},
   "outputs": [],
   "source": [
    "from PlottingTool import StandardPlotter\n",
    "import numpy as np\n",
    "import matplotlib.pyplot as plt\n",
    "\n",
    "fig, axes = plt.subplots(3, 1)\n",
    "sp = StandardPlotter(fig=fig, figheight=14,\n",
    "                     ax=axes, ax_pref={'xticks': range(0, 9)})\n",
    "\n",
    "\n",
    "sp.plot_data(range(0, 9),\n",
    "             sith.all_forces[:, :sith.dims[1]].T,\n",
    "             ax=0, ms=2, lw=1,\n",
    "             data_label= np.arange(sith.dims[1]))\n",
    "sp.plot_data(range(0, 9),\n",
    "             sith.all_forces[:, sith.dims[1]: sith.dims[1] + sith.dims[2]].T,\n",
    "             data_label=np.arange(sith.dims[1], sith.dims[1] + sith.dims[2]),\n",
    "             ax=1, ms=2, lw=1)\n",
    "sp.plot_data(range(0, 9),\n",
    "             sith.all_forces[:, -sith.dims[3]:].T,\n",
    "             data_label= np.arange(sith.dims[0] - sith.dims[3], sith.dims[0]),\n",
    "             ax=2, ms=2, lw=1)\n",
    "\n",
    "sp.axis_setter(ax=0,\n",
    "               ylabel='F in Distance\\n[Ha/Å]',\n",
    "               xticks=[],\n",
    "               xminor=range(0, 9),\n",
    "               legend=True)\n",
    "sp.axis_setter(ax=1,\n",
    "               ylabel='F in Angle \\n[Ha/rad]',\n",
    "               xticks=[],\n",
    "               xminor=range(0, 9),\n",
    "               legend=True)\n",
    "sp.axis_setter(ax=2,\n",
    "               xlabel='Stretched Configuration',\n",
    "               ylabel='F in Dihedral\\n[Ha/rad]',\n",
    "               legend=True)\n",
    "\n",
    "sp.spaces[0].set_axis(rows_cols=(3, 1), borders=[[0.16, 0.065], [0.99, 0.97]],\n",
    "                      spaces=(0.1, 0.05));"
   ]
  },
  {
   "cell_type": "markdown",
   "id": "bf786b19",
   "metadata": {},
   "source": [
    "## Changes in the Degrees of Freedom"
   ]
  },
  {
   "cell_type": "markdown",
   "id": "513c820c",
   "metadata": {},
   "source": [
    "Other important attribute of sith is the change of the values in degrees of freedom (:attr:`sith.SITH.SITH.delta_q`), which in this case is defined by :meth:`sith.energy_analysis.sith_analysis.SithAnalysis.get_sith_dq`. This an important quantity (along with the forces) because of the numerical integration, it is requiered to be small steps to conserve a reasonable discretization of the energy integral. In this case, all the changes in distances are lower than 0.1 Angstrom and the angles are lower than 4 degrees."
   ]
  },
  {
   "cell_type": "code",
   "execution_count": null,
   "id": "7941c9c0",
   "metadata": {},
   "outputs": [],
   "source": [
    "fig, axes = plt.subplots(3, 1)\n",
    "sp = StandardPlotter(fig=fig, ax=axes, figheight=14)\n",
    "\n",
    "sp.plot_data(range(0, 9),\n",
    "             sith.delta_q[:, :sith.dims[1]].T,\n",
    "             data_label= np.arange(sith.dims[1]),\n",
    "             ax=0, ms=2, lw=1)\n",
    "sp.plot_data(range(0, 9),\n",
    "             sith.delta_q[:, sith.dims[1]: sith.dims[1] + sith.dims[2]].T * 180 / 3.14159,\n",
    "             data_label=np.arange(sith.dims[1], sith.dims[1] + sith.dims[2]),\n",
    "             ax=1, ms=2, lw=1)\n",
    "sp.plot_data(range(0, 9),\n",
    "             sith.delta_q[:, -sith.dims[3]:].T  * 180 / 3.14159,\n",
    "             data_label= np.arange(sith.dims[0] - sith.dims[3], sith.dims[0]),\n",
    "             ax=2, ms=2, lw=1)\n",
    "\n",
    "sp.axis_setter(ax=0,\n",
    "               ylabel='$\\Delta$ Distances[Å]',\n",
    "               xticks=[],\n",
    "               xminor=range(0, 9),\n",
    "               legend=True)\n",
    "sp.axis_setter(ax=1,\n",
    "               ylabel='$\\Delta$Angles[\\u00B0]',\n",
    "               xticks=[],\n",
    "               xminor=range(0, 9),\n",
    "               legend=True)\n",
    "sp.axis_setter(ax=2,\n",
    "               xminor=range(0, 9),\n",
    "               xlabel='Stretched Configuration',\n",
    "               ylabel='$\\Delta$ Dihedrals[\\u00B0]',\n",
    "               legend=True)\n",
    "\n",
    "sp.spaces[0].set_axis(rows_cols=(3, 1), borders=[[0.16, 0.1], [0.99, 0.99]],\n",
    "                      spaces=(0.1, 0.05));"
   ]
  },
  {
   "cell_type": "markdown",
   "id": "5354f57b",
   "metadata": {},
   "source": [
    "## Values of the DOFs"
   ]
  },
  {
   "cell_type": "markdown",
   "id": "def9e206",
   "metadata": {},
   "source": [
    "Instead of plotting the changes, we can plot the values of the degrees of freedom at each stretching state, which are stored in :attr:`sith.SITH.SITH.all_dofs`."
   ]
  },
  {
   "cell_type": "code",
   "execution_count": null,
   "id": "f0edf977",
   "metadata": {},
   "outputs": [],
   "source": [
    "fig, axes = plt.subplots(3, 1)\n",
    "sp = StandardPlotter(fig=fig, ax=axes, figheight=14)\n",
    "\n",
    "sp.plot_data(range(0, 9),\n",
    "             sith.all_dofs[:, :sith.dims[1]].T,\n",
    "             data_label= np.arange(sith.dims[1]),\n",
    "             ax=0, ms=2, lw=1)\n",
    "sp.plot_data(range(0, 9),\n",
    "             sith.all_dofs[:, sith.dims[1]: sith.dims[1] + sith.dims[2]].T * 180 / 3.14159,\n",
    "             data_label=np.arange(sith.dims[1], sith.dims[1] + sith.dims[2]),\n",
    "             ax=1, ms=2, lw=1)\n",
    "sp.plot_data(range(0, 9),\n",
    "             sith.all_dofs[:, -sith.dims[3]:].T  * 180 / 3.14159,\n",
    "             data_label= np.arange(sith.dims[0] - sith.dims[3], sith.dims[0]),\n",
    "             ax=2, ms=2, lw=1)\n",
    "\n",
    "sp.axis_setter(ax=0,\n",
    "               ylabel='Distances[Å]',\n",
    "               xticks=[],\n",
    "               xminor=range(0, 9),\n",
    "               legend=True)\n",
    "sp.axis_setter(ax=1,\n",
    "               ylabel='Angles[\\u00B0]',\n",
    "               xticks=[],\n",
    "               xminor=range(0, 9),\n",
    "               legend=True)\n",
    "sp.axis_setter(ax=2,\n",
    "               xminor=range(0, 9),\n",
    "               xlabel='Stretched Configuration',\n",
    "               ylabel='Dihedrals[\\u00B0]',\n",
    "               legend=True)\n",
    "\n",
    "sp.spaces[0].set_axis(rows_cols=(3, 1), borders=[[0.16, 0.1], [0.99, 0.99]],\n",
    "                      spaces=(0.1, 0.05));"
   ]
  },
  {
   "cell_type": "markdown",
   "id": "832f14f6",
   "metadata": {},
   "source": [
    "In the plot of the changes of the dihedrals obtained before, we didn't seem to have large changes, but the last plot seems to show large jumps. However, those jumps are just an artifact of the visualization because of the periodicity of the angles (181$^\\circ$ = -179$^\\circ$). We show below a way to obtain a better plot that avoids this kind of jumps."
   ]
  },
  {
   "cell_type": "markdown",
   "id": "c684b125",
   "metadata": {},
   "source": [
    "## The Distribution of Energies"
   ]
  },
  {
   "cell_type": "markdown",
   "id": "b978456e",
   "metadata": {},
   "source": [
    "The main point of sith is to compute the distribution of energies. This quantity is stored in :attr:`sith.SITH.SITH.dofs_energies`."
   ]
  },
  {
   "cell_type": "code",
   "execution_count": null,
   "id": "387bf411",
   "metadata": {},
   "outputs": [],
   "source": [
    "sith.delta_q.shape"
   ]
  },
  {
   "cell_type": "code",
   "execution_count": null,
   "id": "c6c2f524",
   "metadata": {},
   "outputs": [],
   "source": [
    "fig, axes = plt.subplots(3, 1)\n",
    "sp = StandardPlotter(fig=fig, ax=axes, figheight=16)\n",
    "\n",
    "sp.plot_data(np.cumsum(sith.delta_q[:, :sith.dims[1]].T, axis=1),\n",
    "             sith.dofs_energies[:, :sith.dims[1]].T,\n",
    "             ax=0, ms=2, lw=1,\n",
    "             data_label= np.arange(sith.dims[1]))\n",
    "sp.plot_data(np.cumsum(sith.delta_q[:,\n",
    "                                    sith.dims[1]: sith.dims[1] + sith.dims[2]\n",
    "                                    ].T * 180 / 3.14159,\n",
    "                       axis=1),\n",
    "             sith.dofs_energies[:,\n",
    "                                sith.dims[1]: sith.dims[1] + sith.dims[2]\n",
    "                                ].T,\n",
    "             data_label=np.arange(sith.dims[1], sith.dims[1] + sith.dims[2]),\n",
    "             ax=1, ms=2, lw=1)\n",
    "\n",
    "sp.plot_data(np.cumsum(sith.delta_q[:, -sith.dims[3]:].T * 180 / 3.14159, axis=1),\n",
    "             sith.dofs_energies[:, -sith.dims[3]:].T,\n",
    "             data_label= np.arange(sith.dims[0] - sith.dims[3], sith.dims[0]),\n",
    "             ax=2, ms=2, lw=1)\n",
    "\n",
    "sp.axis_setter(ax=0,\n",
    "               xlabel='$\\Delta$ Distance [Å]',\n",
    "               ylabel='$\\Delta$ Energy [Ha]',\n",
    "               legend=True)\n",
    "\n",
    "sp.axis_setter(ax=1,\n",
    "               xlabel='$\\Delta$ Angles[\\u00B0]',\n",
    "               ylabel='$\\Delta$ Energy [Ha]',\n",
    "               legend=True)\n",
    "               \n",
    "sp.axis_setter(ax=2,\n",
    "               xlabel='$\\Delta$ Dihedrals[\\u00B0]',\n",
    "               ylabel='$\\Delta$ Energy [Ha]',\n",
    "               xticks=[-0.005, 0, 0.005, 0.01],\n",
    "               legend=True)\n",
    "\n",
    "sp.spaces[0].set_axis(rows_cols=(3, 1), borders=[[0.16, 0.065], [0.99, 0.97]],\n",
    "                      spaces=(0.1, 0.1));"
   ]
  },
  {
   "cell_type": "markdown",
   "id": "a96aacfb",
   "metadata": {},
   "source": [
    "Notice here, that the degree of freedom with index 5 (C-O disrance in Glycie) does not store any energy, but it even shrinks a bit. Same for the degree of freedom number 8 (C-O-C angle of the ACE capping group). This is completely normal and comes from the relaxation of the molecule when it is stretched, which implies that the change in a degree of freedom is not enough reason to conclude that it stores any energy; it should also have a force different to zero associated to it. In other words, the external force alters the potential energy surface such that the position of the minimum energy of this degree of freedom changes, keeping the same value of energy.\n",
    "\n",
    "Another important point to clarify is that the energy stored in the dihedrals seem completely chaotic, and it happens because we are observing only numerical zeros, which are actually random. Check again the changes in the dihedrals and the forces in the plots before.\n",
    "\n",
    "Finally, the most important result of these plots is to notice that all the energy stored in the degrees of freedom increase instead of decrease. This makes completely sense, because we start from a minimum of energy from where the energy should not decrease but always increase."
   ]
  },
  {
   "cell_type": "markdown",
   "id": "0e9a74a3",
   "metadata": {},
   "source": [
    "Supposse that you want the energy storted only in the distance that links the atoms 9 and 12 (1-based convention). First, you have to find it in :attr:`sith.SITH.SITH.dim_indices`. Once you localize it, you get the index that correspond to that degree of freedom (4 in this case) and then use it for plotting the energy as in the following example:"
   ]
  },
  {
   "cell_type": "code",
   "execution_count": null,
   "id": "f002e240",
   "metadata": {},
   "outputs": [],
   "source": [
    "sp = StandardPlotter()\n",
    "sp.plot_data(np.cumsum(sith.delta_q[:, 4]),\n",
    "             sith.dofs_energies[:, 4],\n",
    "             ms=2, lw=1,\n",
    "             data_label='9-12 distance');\n",
    "sp.axis_setter(xlabel='$\\Delta$ Distance [Å]',\n",
    "               ylabel='$\\Delta$ Energy [Ha]',\n",
    "               xticks=[0, 0.05, 0.1, 0.15],\n",
    "               legend=True)\n",
    "\n",
    "sp.spaces[0].set_axis(borders=[[0.145, 0.14], [0.99, 0.95]]);"
   ]
  },
  {
   "cell_type": "markdown",
   "id": "f90aeebd",
   "metadata": {},
   "source": [
    "# SithPlotter"
   ]
  },
  {
   "cell_type": "markdown",
   "id": "54ccac51",
   "metadata": {},
   "source": [
    "We added a tool in sith for data visualization that is practical for analysis, for example, if we are interested in a specific bond recognizable by the name of the atoms involved (as shown below). This tool is based on the existence of a pdb file that contains information of the molecule like residue number and name of the atoms. In principle, it was created for analysis of amino acids, but we are working to make it more general to any kind of molecule. For now you might be able to use the tools shown here thinking that amino is actually any residue in your pdb."
   ]
  },
  {
   "cell_type": "code",
   "execution_count": null,
   "id": "927d6411",
   "metadata": {},
   "outputs": [],
   "source": [
    "from sith.utils.sith_plots import SithPlotter\n",
    "\n",
    "pdb = './data/G.pdb'\n",
    "plotter_sith = SithPlotter(sith, pdb)"
   ]
  },
  {
   "cell_type": "markdown",
   "id": "09cd4655",
   "metadata": {},
   "source": [
    ":class:`sith.utils.sith_plots` has the attributes `amino_name` and `amino_info`. The first contains the name of the residies and the second contains the name of the atoms per residue and the indices of those atoms (1-based indices)."
   ]
  },
  {
   "cell_type": "code",
   "execution_count": null,
   "id": "fe6afdf8",
   "metadata": {},
   "outputs": [],
   "source": [
    "print(plotter_sith.amino_name)\n",
    "print(plotter_sith.amino_info)"
   ]
  },
  {
   "cell_type": "markdown",
   "id": "d5d5c8f8",
   "metadata": {},
   "source": [
    "In this way, if you want to select the index of the $C_\\alpha$  and N atoms of the Glycine (2nd residue), you only have to use the next line:"
   ]
  },
  {
   "cell_type": "code",
   "execution_count": null,
   "id": "8fb0db52",
   "metadata": {},
   "outputs": [],
   "source": [
    "print(plotter_sith.amino_info[2]['CA'], plotter_sith.amino_info[2]['C']) "
   ]
  },
  {
   "cell_type": "markdown",
   "id": "e9fdf3eb",
   "metadata": {},
   "source": [
    "And if you want to know which is the index associated with the distance that separates these two atoms, you can use"
   ]
  },
  {
   "cell_type": "code",
   "execution_count": null,
   "id": "6daa8b67",
   "metadata": {},
   "outputs": [],
   "source": [
    "plotter_sith.index_dof(np.array([9, 12, 0, 0]))"
   ]
  },
  {
   "cell_type": "markdown",
   "id": "18af9943",
   "metadata": {},
   "source": [
    "In this way, you can plot the energy in this specific degrees of freedom as shown before. Or you can use the tool le_dof_amino."
   ]
  },
  {
   "cell_type": "code",
   "execution_count": null,
   "id": "8f4f143b",
   "metadata": {},
   "outputs": [],
   "source": [
    "sp = StandardPlotter(ax_pref={'xlabel': r'C$\\alpha$-C Length [Å]',\n",
    "                              'ylabel': r'E$_{C_\\alpha-C}$ [Ha]',\n",
    "                              'xticks': [1.55, 1.6, 1.65, 1.7]})\n",
    "l, e = plotter_sith.le_dof_amino(('CA', 'C'), 2)\n",
    "sp.plot_data(l, e)\n",
    "sp.spaces[0].locate_ax(borders=[[0.14, 0.130], [0.99, 0.95]])"
   ]
  },
  {
   "cell_type": "markdown",
   "id": "2d98efd2",
   "metadata": {},
   "source": [
    "Other methods assume a harmonic approximation in the distribution of energies per degree of freedom. We can show with sith how close the profile of an specific degree of freedom is to a harmonich potential. As an example, we consider the the C$\\alpha$-C distance that we just plotted. If the distribution of energies correspond to a harmonic approximation in each degree of freedom, the next plot should correspond to a straight line."
   ]
  },
  {
   "cell_type": "code",
   "execution_count": null,
   "id": "ba454cfc",
   "metadata": {},
   "outputs": [],
   "source": [
    "sp = StandardPlotter(ax_pref={'xlabel': r'C$\\alpha$-C Length [Å]',\n",
    "                              'ylabel': r'$\\sqrt{E_{C_\\alpha-C}} [\\sqrt{Ha}]$',\n",
    "                              'xticks': [1.55, 1.6, 1.65, 1.7]})\n",
    "sp.plot_data(l, np.sqrt(e))\n",
    "sp.spaces[0].locate_ax(borders=[[0.14, 0.130], [0.99, 0.95]])"
   ]
  },
  {
   "cell_type": "markdown",
   "id": "717910d5",
   "metadata": {},
   "source": [
    "An interesting value to consider in sith is the error compared with the DFT total change of energy. We know from the theory that the summation of the change of energy in the DOFs should correspond with the total change of energy of the whole molecule. In this case, then, we show that our distribution of energies gives quite consistent results."
   ]
  },
  {
   "cell_type": "code",
   "execution_count": null,
   "id": "c261ade7",
   "metadata": {},
   "outputs": [],
   "source": [
    "plotter_sith.plot_error();"
   ]
  },
  {
   "cell_type": "markdown",
   "id": "0142e4aa",
   "metadata": {},
   "source": [
    "In the previous section, we showed that a normal plot might not be the best idea to show values of angles, because of the periodicity. Then, we added a method to :class:`SithPlotter` to have a better visualization. In the next plot, you have the values if the angles "
   ]
  },
  {
   "cell_type": "code",
   "execution_count": null,
   "id": "0caeefd7",
   "metadata": {},
   "outputs": [],
   "source": [
    "sp = plotter_sith.plot_angles(step=2);"
   ]
  },
  {
   "cell_type": "code",
   "execution_count": null,
   "id": "0686cc22",
   "metadata": {},
   "outputs": [],
   "source": []
  }
 ],
 "metadata": {
  "kernelspec": {
   "display_name": "Python 3 (ipykernel)",
   "language": "python",
   "name": "python3"
  },
  "language_info": {
   "codemirror_mode": {
    "name": "ipython",
    "version": 3
   },
   "file_extension": ".py",
   "mimetype": "text/x-python",
   "name": "python",
   "nbconvert_exporter": "python",
   "pygments_lexer": "ipython3",
   "version": "3.9.17"
  }
 },
 "nbformat": 4,
 "nbformat_minor": 5
}
